{
 "cells": [
  {
   "cell_type": "code",
   "execution_count": null,
   "metadata": {
    "collapsed": true
   },
   "outputs": [],
   "source": []
  },
  {
   "cell_type": "markdown",
   "metadata": {},
   "source": [
    "# Capstone Project: \n",
    "  ## Flowers Classification using Convolutional Neural Networks"
   ]
  },
  {
   "cell_type": "code",
   "execution_count": 8,
   "metadata": {},
   "outputs": [
    {
     "name": "stderr",
     "output_type": "stream",
     "text": [
      "Using TensorFlow backend.\n",
      "Couldn't import dot_parser, loading of dot files will not be possible.\n"
     ]
    }
   ],
   "source": [
    "import numpy as np\n",
    "import pandas as pd\n",
    "import keras"
   ]
  },
  {
   "cell_type": "code",
   "execution_count": 9,
   "metadata": {
    "collapsed": true
   },
   "outputs": [],
   "source": [
    "from keras.layers import Input, Conv2D, MaxPool2D, Dropout, Activation, Dense, Flatten\n",
    "from keras.models import Sequential\n",
    "from keras.activations import relu, softmax\n",
    "from keras.optimizers import Adam"
   ]
  },
  {
   "cell_type": "code",
   "execution_count": 10,
   "metadata": {
    "collapsed": true
   },
   "outputs": [],
   "source": [
    "from PIL import Image\n",
    "import random"
   ]
  },
  {
   "cell_type": "code",
   "execution_count": 6,
   "metadata": {
    "collapsed": true
   },
   "outputs": [],
   "source": [
    "import cv2\n",
    "import os\n",
    "import urllib.request\n",
    "from urllib.request import Request, urlopen\n",
    "from urllib.error import URLError\n",
    "# import socket  \n",
    "# socket.setdefaulttimeout(1)"
   ]
  },
  {
   "cell_type": "code",
   "execution_count": 11,
   "metadata": {
    "collapsed": true
   },
   "outputs": [],
   "source": [
    "from keras.layers.normalization import BatchNormalization\n",
    "from keras.preprocessing.image import ImageDataGenerator"
   ]
  },
  {
   "cell_type": "code",
   "execution_count": null,
   "metadata": {
    "collapsed": true
   },
   "outputs": [],
   "source": []
  },
  {
   "cell_type": "markdown",
   "metadata": {},
   "source": [
    "## Data Collection\n",
    "\n",
    "### Scrap images from http://www.image-net.org \n"
   ]
  },
  {
   "cell_type": "code",
   "execution_count": null,
   "metadata": {
    "collapsed": true
   },
   "outputs": [],
   "source": [
    "# category={'Sunflower':'http://www.image-net.org/api/text/imagenet.synset.geturls?wnid=n11978961',\n",
    "#           'Peony':'http://image-net.org/api/text/imagenet.synset.geturls?wnid=n11719286',\n",
    "#           'Nigella':'http://image-net.org/api/text/imagenet.synset.geturls?wnid=n11736851',\n",
    "#           'Spathiphyllum':'http://image-net.org/api/text/imagenet.synset.geturls?wnid=n11792341',\n",
    "#           'Ragged_robin':'http://image-net.org/api/text/imagenet.synset.geturls?wnid=n11811706',\n",
    "#           'Soapwort':'http://image-net.org/api/text/imagenet.synset.geturls?wnid=n11814584',\n",
    "#           'Ice_plant':'http://image-net.org/api/text/imagenet.synset.geturls?wnid=n11821184',\n",
    "#           'Spring_beauty':'http://image-net.org/api/text/imagenet.synset.geturls?wnid=n11859472',\n",
    "#           'African_daisy':'http://image-net.org/api/text/imagenet.synset.geturls?wnid=n11925303',\n",
    "#           'Cornflower':'http://image-net.org/api/text/imagenet.synset.geturls?wnid=n11947802'\n",
    "#           }"
   ]
  },
  {
   "cell_type": "code",
   "execution_count": null,
   "metadata": {
    "collapsed": true
   },
   "outputs": [],
   "source": [
    "# import cv2\n",
    "# import os\n",
    "# import urllib.request\n",
    "# from urllib.request import Request, urlopen\n",
    "# from urllib.error import URLError\n",
    "# import socket  \n",
    "# socket.setdefaulttimeout(1)\n",
    "\n",
    "\n",
    "\n",
    "# def get_urls(urls_links):\n",
    "#     url_list=urllib.request.urlopen(urls_links).read().decode().split('\\r\\n')\n",
    "#     return url_list"
   ]
  },
  {
   "cell_type": "code",
   "execution_count": null,
   "metadata": {
    "collapsed": true
   },
   "outputs": [],
   "source": [
    "# def download_images(urls_link,category_name):\n",
    "#     if not os.path.exists(category_name):\n",
    "#         os.makedirs(category_name)\n",
    "#     count=1\n",
    "#     url_list=get_urls(urls_link)\n",
    "#     for url in url_list:\n",
    "#         try:\n",
    "#             path_name=str(category_name)+'/'+str(count)+'.'+str(category_name)+'.jpg'\n",
    "#             urllib.request.urlretrieve(url,path_name)\n",
    "             \n",
    "#             img=cv2.imread(path_name)\n",
    "#             resized_image=cv2.resize(img,(100,100))\n",
    "#             cv2.imwrite(path_name,resized_image)\n",
    "#         except Exception as e:\n",
    "#             print(str(count)+str(e))\n",
    "#         count+=1"
   ]
  },
  {
   "cell_type": "code",
   "execution_count": null,
   "metadata": {
    "collapsed": true
   },
   "outputs": [],
   "source": [
    "# for cate in category:\n",
    "#     download_images(category['cate'],cate)\n"
   ]
  },
  {
   "cell_type": "code",
   "execution_count": null,
   "metadata": {
    "collapsed": true
   },
   "outputs": [],
   "source": []
  },
  {
   "cell_type": "markdown",
   "metadata": {},
   "source": [
    "## Data Preprocessing "
   ]
  },
  {
   "cell_type": "code",
   "execution_count": 1,
   "metadata": {
    "collapsed": true
   },
   "outputs": [],
   "source": [
    "all_image_dir='all_flower_images'"
   ]
  },
  {
   "cell_type": "code",
   "execution_count": 2,
   "metadata": {
    "collapsed": true
   },
   "outputs": [],
   "source": [
    "def label_img(img):\n",
    "    img_label = img.split('.')[-2]\n",
    "    return img_label"
   ]
  },
  {
   "cell_type": "code",
   "execution_count": 3,
   "metadata": {
    "collapsed": true
   },
   "outputs": [],
   "source": [
    "def jpg_image_to_array(path):\n",
    "    \"\"\"\n",
    "  Loads JPEG image into 3D Numpy array of shape \n",
    "  (width, height, channels)\n",
    "  \"\"\"\n",
    "    img=Image.open(path)\n",
    "    img_arr=np.asarray(img).reshape((img.size[1], img.size[0],3))\n",
    "    return img_arr\n",
    "    "
   ]
  },
  {
   "cell_type": "code",
   "execution_count": null,
   "metadata": {
    "collapsed": true
   },
   "outputs": [],
   "source": []
  },
  {
   "cell_type": "code",
   "execution_count": 29,
   "metadata": {
    "collapsed": true
   },
   "outputs": [],
   "source": [
    "def create_image_list(image_dir):\n",
    "    img_dataset=[]\n",
    "#     label_dataset=[]\n",
    "    for img in os.listdir(image_dir):\n",
    "        try: \n",
    "            img_path=str(image_dir)+'/'+str(img)\n",
    "            image_array=jpg_image_to_array(img_path)\n",
    "            label=label_img(img)\n",
    "            img_dataset.append([image_array])  \n",
    "#             label_dataset.append([label])\n",
    "\n",
    "        except Exception as e:\n",
    "            print(str(e))\n",
    "#     np.save('image_dataset.npy',img_dataset)\n",
    "#     return img_dataset\n",
    "\n",
    "    img_list_arr=np.array(img_dataset)\n",
    "    len_img_list=img_list_arr.shape[0]\n",
    "    img_list_arr_reshape=img_list_arr.reshape(len_img_list,100,100,3)\n",
    "\n",
    "\n",
    "    return img_list_arr_reshape"
   ]
  },
  {
   "cell_type": "code",
   "execution_count": 30,
   "metadata": {},
   "outputs": [
    {
     "name": "stdout",
     "output_type": "stream",
     "text": [
      "cannot identify image file 'all_flower_images/.DS_Store'\n",
      "cannot reshape array of size 16320 into shape (120,136,3)\n",
      "cannot reshape array of size 12100 into shape (110,110,3)\n",
      "cannot identify image file 'all_flower_images/370.Ragged_robin.jpg'\n",
      "cannot reshape array of size 7000 into shape (70,100,3)\n",
      "cannot reshape array of size 9216 into shape (96,96,3)\n",
      "cannot identify image file 'all_flower_images/438.Spring_beauty.jpg'\n",
      "cannot reshape array of size 90000 into shape (300,300,3)\n",
      "cannot identify image file 'all_flower_images/472.Sunflower.jpg'\n",
      "cannot reshape array of size 7000 into shape (70,100,3)\n",
      "cannot identify image file 'all_flower_images/725.Spring_beauty.jpg'\n",
      "cannot reshape array of size 2700 into shape (60,45,3)\n",
      "cannot reshape array of size 36936 into shape (216,171,3)\n",
      "cannot reshape array of size 13440 into shape (120,112,3)\n"
     ]
    }
   ],
   "source": [
    "image_list_arr=create_image_list(all_image_dir)"
   ]
  },
  {
   "cell_type": "code",
   "execution_count": 31,
   "metadata": {},
   "outputs": [
    {
     "data": {
      "text/plain": [
       "(11755, 100, 100, 3)"
      ]
     },
     "execution_count": 31,
     "metadata": {},
     "output_type": "execute_result"
    }
   ],
   "source": [
    "image_list_arr.shape"
   ]
  },
  {
   "cell_type": "code",
   "execution_count": 36,
   "metadata": {
    "collapsed": true
   },
   "outputs": [],
   "source": [
    "def create_label_list(image_dir):\n",
    "#     img_dataset=[]\n",
    "    label_dataset=[]\n",
    "    for img in os.listdir(image_dir):\n",
    "        try: \n",
    "            img_path=str(image_dir)+'/'+str(img)\n",
    "            image_array=jpg_image_to_array(img_path)\n",
    "            label=label_img(img)\n",
    "#             img_dataset.append([image_array])  \n",
    "            label_dataset.append([label])\n",
    "\n",
    "        except Exception as e:\n",
    "            print(str(e))\n",
    "#     np.save('image_dataset.npy',img_dataset)\n",
    "#     return img_dataset\n",
    "\n",
    "    labels_list_arr=np.array(label_dataset)\n",
    "\n",
    "    return labels_list_arr"
   ]
  },
  {
   "cell_type": "code",
   "execution_count": 37,
   "metadata": {},
   "outputs": [
    {
     "name": "stdout",
     "output_type": "stream",
     "text": [
      "cannot identify image file 'all_flower_images/.DS_Store'\n",
      "cannot reshape array of size 16320 into shape (120,136,3)\n",
      "cannot reshape array of size 12100 into shape (110,110,3)\n",
      "cannot identify image file 'all_flower_images/370.Ragged_robin.jpg'\n",
      "cannot reshape array of size 7000 into shape (70,100,3)\n",
      "cannot reshape array of size 9216 into shape (96,96,3)\n",
      "cannot identify image file 'all_flower_images/438.Spring_beauty.jpg'\n",
      "cannot reshape array of size 90000 into shape (300,300,3)\n",
      "cannot identify image file 'all_flower_images/472.Sunflower.jpg'\n",
      "cannot reshape array of size 7000 into shape (70,100,3)\n",
      "cannot identify image file 'all_flower_images/725.Spring_beauty.jpg'\n",
      "cannot reshape array of size 2700 into shape (60,45,3)\n",
      "cannot reshape array of size 36936 into shape (216,171,3)\n",
      "cannot reshape array of size 13440 into shape (120,112,3)\n"
     ]
    }
   ],
   "source": [
    "label_list_arr=create_label_list(all_image_dir)"
   ]
  },
  {
   "cell_type": "code",
   "execution_count": 38,
   "metadata": {},
   "outputs": [
    {
     "data": {
      "text/plain": [
       "(11755, 1)"
      ]
     },
     "execution_count": 38,
     "metadata": {},
     "output_type": "execute_result"
    }
   ],
   "source": [
    "label_list_arr.shape"
   ]
  },
  {
   "cell_type": "code",
   "execution_count": null,
   "metadata": {
    "collapsed": true
   },
   "outputs": [],
   "source": [
    "import random"
   ]
  },
  {
   "cell_type": "code",
   "execution_count": 42,
   "metadata": {},
   "outputs": [
    {
     "data": {
      "text/plain": [
       "3"
      ]
     },
     "execution_count": 42,
     "metadata": {},
     "output_type": "execute_result"
    }
   ],
   "source": [
    "ddd=10/3\n",
    "int(ddd)"
   ]
  },
  {
   "cell_type": "code",
   "execution_count": 64,
   "metadata": {
    "collapsed": true
   },
   "outputs": [],
   "source": [
    "\n",
    "def train_test_split(X, y , percentage_of_train):\n",
    "    a = X\n",
    "    b = y\n",
    "    c = list(zip(a,b))\n",
    "    random.shuffle(c)\n",
    "    a1, b1 = zip(*c)\n",
    "    a2=np.array(a1)\n",
    "    b2=np.array(b1)\n",
    "    a2=a2.reshape(a.shape[0], 100, 100, 3)\n",
    "    \n",
    "    percentage=int(a.shape[0]*percentage_of_train)\n",
    "    \n",
    "    XX_train=a2[:percentage]\n",
    "    XX_test=a2[percentage:]\n",
    "    yy_train=b2[:percentage]\n",
    "    yy_test=b2[percentage:]\n",
    "    \n",
    "    return XX_train, XX_test, yy_train, yy_test"
   ]
  },
  {
   "cell_type": "code",
   "execution_count": 47,
   "metadata": {},
   "outputs": [],
   "source": [
    "X_train, X_test, y_train, y_test=train_test_split(image_list_arr,label_list_arr,0.8)"
   ]
  },
  {
   "cell_type": "code",
   "execution_count": 50,
   "metadata": {},
   "outputs": [
    {
     "data": {
      "text/plain": [
       "(9404, 1)"
      ]
     },
     "execution_count": 50,
     "metadata": {},
     "output_type": "execute_result"
    }
   ],
   "source": [
    "y_train.shape"
   ]
  },
  {
   "cell_type": "code",
   "execution_count": 51,
   "metadata": {},
   "outputs": [
    {
     "data": {
      "text/plain": [
       "(2351, 1)"
      ]
     },
     "execution_count": 51,
     "metadata": {},
     "output_type": "execute_result"
    }
   ],
   "source": [
    "y_test.shape"
   ]
  },
  {
   "cell_type": "code",
   "execution_count": 65,
   "metadata": {
    "collapsed": true
   },
   "outputs": [],
   "source": [
    "X_train_rescale=X_train/255\n",
    "X_test_rescale=X_test/255"
   ]
  },
  {
   "cell_type": "code",
   "execution_count": null,
   "metadata": {
    "collapsed": true
   },
   "outputs": [],
   "source": []
  },
  {
   "cell_type": "code",
   "execution_count": null,
   "metadata": {
    "collapsed": true
   },
   "outputs": [],
   "source": [
    "from sklearn.preprocessing import LabelBinarizer\n",
    "encoder = LabelBinarizer()\n",
    "y_train_1hot = encoder.fit_transform(y_train)\n",
    "y_test_1hot=encoder.fit_transform(y_test)\n"
   ]
  },
  {
   "cell_type": "code",
   "execution_count": null,
   "metadata": {},
   "outputs": [],
   "source": [
    "y_train_1hot"
   ]
  },
  {
   "cell_type": "code",
   "execution_count": null,
   "metadata": {},
   "outputs": [],
   "source": [
    "y_test_1hot"
   ]
  },
  {
   "cell_type": "code",
   "execution_count": null,
   "metadata": {
    "collapsed": true
   },
   "outputs": [],
   "source": [
    "# y_train_test11 = keras.utils.to_categorical(y_train_test1, 10)\n",
    "# y_test_test11 = keras.utils.to_categorical(y_test_test1, 10)"
   ]
  },
  {
   "cell_type": "code",
   "execution_count": null,
   "metadata": {
    "collapsed": true
   },
   "outputs": [],
   "source": []
  },
  {
   "cell_type": "markdown",
   "metadata": {},
   "source": [
    "## Model Building"
   ]
  },
  {
   "cell_type": "code",
   "execution_count": null,
   "metadata": {
    "collapsed": true
   },
   "outputs": [],
   "source": [
    "cnn1 = Sequential([\n",
    "    Conv2D(50, kernel_size=(3, 3),\n",
    "                 activation='relu',\n",
    "                 input_shape=(100,100,3)),\n",
    "    MaxPool2D((2,2)),\n",
    "    \n",
    "    Conv2D(100, (3, 3), activation='relu'),\n",
    "#     BatchNormalization(axis=-1),\n",
    "    Dropout(.5),\n",
    "    MaxPool2D((2,2)),\n",
    "    \n",
    "#     Conv2D(100, (3, 3), activation='relu'),\n",
    "#     BatchNormalization(axis=-1),\n",
    "#     Dropout(.25),\n",
    "#     MaxPool2D((2,2)),\n",
    "    \n",
    "#     Conv2D(150, (3, 3), activation='relu'),\n",
    "#     BatchNormalization(axis=-1),\n",
    "#     Dropout(.25),\n",
    "#     MaxPool2D((2,2)),\n",
    "    \n",
    "#     Conv2D(100, (3, 3), activation='relu'),\n",
    "#     Dropout(.25),\n",
    "#     MaxPool2D((2,2)),\n",
    "    \n",
    "    Flatten(),\n",
    "    Dense(128, activation='relu'),\n",
    "    BatchNormalization(axis=-1),\n",
    "    Dropout(.5),\n",
    "    Dense(10, activation='softmax')\n",
    "])"
   ]
  },
  {
   "cell_type": "code",
   "execution_count": null,
   "metadata": {},
   "outputs": [],
   "source": [
    "cnn1.summary()"
   ]
  },
  {
   "cell_type": "code",
   "execution_count": null,
   "metadata": {
    "collapsed": true
   },
   "outputs": [],
   "source": [
    "cnn1.compile(loss=keras.losses.categorical_crossentropy,\n",
    "              optimizer=keras.optimizers.Adadelta(lr=0.1),\n",
    "#               optimizer=Adam(lr=0.2),\n",
    "#               optimizer=sgd,\n",
    "              metrics=['accuracy'])"
   ]
  },
  {
   "cell_type": "code",
   "execution_count": null,
   "metadata": {},
   "outputs": [],
   "source": [
    "cnn1.fit(X_train_rescale, y_train_1hot, validation_split=.2, epochs=5)"
   ]
  },
  {
   "cell_type": "code",
   "execution_count": null,
   "metadata": {},
   "outputs": [],
   "source": [
    "loss, accuracy1 = cnn1.evaluate(X_test_rescale, y_test_1hot)"
   ]
  },
  {
   "cell_type": "code",
   "execution_count": null,
   "metadata": {},
   "outputs": [],
   "source": [
    "accuracy1"
   ]
  },
  {
   "cell_type": "code",
   "execution_count": null,
   "metadata": {
    "collapsed": true
   },
   "outputs": [],
   "source": []
  },
  {
   "cell_type": "code",
   "execution_count": null,
   "metadata": {
    "collapsed": true
   },
   "outputs": [],
   "source": []
  },
  {
   "cell_type": "code",
   "execution_count": null,
   "metadata": {
    "collapsed": true
   },
   "outputs": [],
   "source": [
    "'''\n",
    "number_of_conv   dropout     num_fillter    Dense   LR   epochs   train_acc   val_acc   test_acc\n",
    "    2               0.25       50 100        128   0.5     5       0.7          0.61       0.57\n",
    "    3               0.25       50 100 200    128   0.5     5       0.67         0.60       0.57 \n",
    "    2               0.5        50 100         64   0.2     5       0.49         0.53       0.58\n",
    "    2               0.5        50 100        128   0.2    20       0.85         0.63       0.63  \n",
    "    \n",
    "    \n",
    "    \n",
    "'''"
   ]
  },
  {
   "cell_type": "code",
   "execution_count": null,
   "metadata": {
    "collapsed": true
   },
   "outputs": [],
   "source": []
  },
  {
   "cell_type": "code",
   "execution_count": null,
   "metadata": {
    "collapsed": true
   },
   "outputs": [],
   "source": []
  },
  {
   "cell_type": "markdown",
   "metadata": {},
   "source": [
    "## Data Augmentation"
   ]
  },
  {
   "cell_type": "code",
   "execution_count": null,
   "metadata": {
    "collapsed": true
   },
   "outputs": [],
   "source": [
    "cnn2 = Sequential([\n",
    "    Conv2D(50, kernel_size=(3, 3),\n",
    "                 activation='relu',\n",
    "                 input_shape=(100,100,3)),\n",
    "    MaxPool2D((2,2)),\n",
    "    \n",
    "    Conv2D(100, (3, 3), activation='relu'),\n",
    "    BatchNormalization(axis=-1),\n",
    "    Dropout(.5),\n",
    "    MaxPool2D((2,2)),\n",
    "    \n",
    "#     Conv2D(100, (3, 3), activation='relu'),\n",
    "#     BatchNormalization(axis=-1),\n",
    "#     Dropout(.25),\n",
    "#     MaxPool2D((2,2)),\n",
    "    \n",
    "#     Conv2D(150, (3, 3), activation='relu'),\n",
    "#     BatchNormalization(axis=-1),\n",
    "#     Dropout(.25),\n",
    "#     MaxPool2D((2,2)),\n",
    "    \n",
    "#     Conv2D(100, (3, 3), activation='relu'),\n",
    "#     Dropout(.25),\n",
    "#     MaxPool2D((2,2)),\n",
    "    \n",
    "    Flatten(),\n",
    "    Dense(128, activation='relu'),\n",
    "    BatchNormalization(axis=-1),\n",
    "    Dropout(.5),\n",
    "    Dense(10, activation='softmax')\n",
    "])"
   ]
  },
  {
   "cell_type": "code",
   "execution_count": null,
   "metadata": {
    "scrolled": true
   },
   "outputs": [],
   "source": [
    "cnn2.summary()"
   ]
  },
  {
   "cell_type": "code",
   "execution_count": null,
   "metadata": {
    "collapsed": true
   },
   "outputs": [],
   "source": [
    "# from keras import optimizers\n",
    "# sgd = optimizers.SGD(lr=.2, momentum=0.9, nesterov=True)"
   ]
  },
  {
   "cell_type": "code",
   "execution_count": null,
   "metadata": {
    "collapsed": true
   },
   "outputs": [],
   "source": [
    "cnn2.compile(loss=keras.losses.categorical_crossentropy,\n",
    "              optimizer=keras.optimizers.Adadelta(lr=0.5),\n",
    "#               optimizer=Adam(lr=0.2),\n",
    "#               optimizer=sgd,\n",
    "              metrics=['accuracy'])\n"
   ]
  },
  {
   "cell_type": "code",
   "execution_count": null,
   "metadata": {
    "collapsed": true
   },
   "outputs": [],
   "source": [
    "# X_train_test1=a2[:6533]\n",
    "# X_test_test1=a2[6533:]\n",
    "# y_train_test1=b2[:6533]\n",
    "# y_test_test1=b2[6533:]\n",
    "\n",
    "imgen_train = ImageDataGenerator(\n",
    "    rotation_range=8,\n",
    "    width_shift_range=0.2,\n",
    "    height_shift_range=0.2,\n",
    "    shear_range=0.1,\n",
    "    zoom_range=0.15,\n",
    "    horizontal_flip=True,\n",
    "    vertical_flip=True,\n",
    ")\n",
    "\n",
    "imgen_test=ImageDataGenerator()\n",
    "\n"
   ]
  },
  {
   "cell_type": "code",
   "execution_count": null,
   "metadata": {
    "collapsed": true
   },
   "outputs": [],
   "source": [
    "train_generator = imgen_train.flow(X_train_rescale, y_train_1hot, batch_size=64)\n",
    "test_generator = imgen_test.flow(X_test_rescale, y_test_1hot, batch_size=64)\n"
   ]
  },
  {
   "cell_type": "code",
   "execution_count": null,
   "metadata": {},
   "outputs": [],
   "source": [
    "cnn2.fit_generator(train_generator, steps_per_epoch=X_train_rescale.shape[0] // 64, epochs=5, \n",
    "                    validation_data=test_generator, validation_steps=len(y_test_1hot)//64)"
   ]
  },
  {
   "cell_type": "code",
   "execution_count": null,
   "metadata": {
    "collapsed": true
   },
   "outputs": [],
   "source": []
  },
  {
   "cell_type": "code",
   "execution_count": null,
   "metadata": {
    "collapsed": true
   },
   "outputs": [],
   "source": []
  },
  {
   "cell_type": "code",
   "execution_count": null,
   "metadata": {
    "collapsed": true
   },
   "outputs": [],
   "source": []
  },
  {
   "cell_type": "code",
   "execution_count": null,
   "metadata": {
    "collapsed": true
   },
   "outputs": [],
   "source": []
  },
  {
   "cell_type": "code",
   "execution_count": null,
   "metadata": {
    "collapsed": true
   },
   "outputs": [],
   "source": []
  },
  {
   "cell_type": "markdown",
   "metadata": {},
   "source": [
    "## Add Data"
   ]
  },
  {
   "cell_type": "code",
   "execution_count": null,
   "metadata": {
    "collapsed": true
   },
   "outputs": [],
   "source": [
    "new_image_dir='/Users/Dan/Desktop/new_image/all_flower_resize_new2'"
   ]
  },
  {
   "cell_type": "code",
   "execution_count": null,
   "metadata": {},
   "outputs": [],
   "source": [
    "image_list2=create_image_list(new_image_dir)"
   ]
  },
  {
   "cell_type": "code",
   "execution_count": null,
   "metadata": {
    "collapsed": true
   },
   "outputs": [],
   "source": [
    "def create_image_list(image_dir):\n",
    "    img_dataset=[]\n",
    "    label_dataset=[]\n",
    "    for img in os.listdir(image_dir):\n",
    "        try: \n",
    "            img_peth=str(image_dir)+'/'+str(img)\n",
    "            image_array=jpg_image_to_array(img_peth)\n",
    "            label=label_img(img)\n",
    "            img_dataset.append([image_array])  \n",
    "#             label_dataset.append([label])\n",
    "        except Exception as e:\n",
    "            print(str(e))\n",
    "#     np.save('image_dataset.npy',img_dataset)\n",
    "#     return img_dataset\n",
    "    return img_dataset"
   ]
  },
  {
   "cell_type": "code",
   "execution_count": null,
   "metadata": {},
   "outputs": [],
   "source": [
    "image_list2_arr=np.array(image_list2)\n",
    "image_list2_arr.shape"
   ]
  },
  {
   "cell_type": "code",
   "execution_count": null,
   "metadata": {},
   "outputs": [],
   "source": [
    "image_list2_reshape=image_list2_arr.reshape(11755,100,100,3)\n",
    "image_list2_reshape.shape"
   ]
  },
  {
   "cell_type": "code",
   "execution_count": null,
   "metadata": {},
   "outputs": [],
   "source": [
    "label_list2=create_label_list(new_image_dir)"
   ]
  },
  {
   "cell_type": "code",
   "execution_count": null,
   "metadata": {
    "collapsed": true
   },
   "outputs": [],
   "source": [
    "cnn2.fit(X_train_test1_rescale, y_train_test1_1hot, validation_split=.2, epochs=5)"
   ]
  },
  {
   "cell_type": "code",
   "execution_count": null,
   "metadata": {
    "collapsed": true
   },
   "outputs": [],
   "source": [
    "loss, accuracy = cnn2.evaluate(X_test_test1_rescale, y_test_test1_1hot)"
   ]
  },
  {
   "cell_type": "code",
   "execution_count": null,
   "metadata": {
    "collapsed": true
   },
   "outputs": [],
   "source": [
    "accuracy"
   ]
  },
  {
   "cell_type": "code",
   "execution_count": null,
   "metadata": {
    "collapsed": true
   },
   "outputs": [],
   "source": [
    "def create_label_list(image_dir):\n",
    "    img_dataset=[]\n",
    "    label_dataset=[]\n",
    "    for img in os.listdir(image_dir):\n",
    "        try: \n",
    "            img_peth=str(image_dir)+'/'+str(img)\n",
    "            image_array=jpg_image_to_array(img_peth)\n",
    "            label=label_img(img)\n",
    "#             img_dataset.append([image_array])  \n",
    "            label_dataset.append([label])\n",
    "        except Exception as e:\n",
    "            print(str(e))\n",
    "#     np.save('image_dataset.npy',img_dataset)\n",
    "#     return img_dataset\n",
    "    return label_dataset"
   ]
  },
  {
   "cell_type": "code",
   "execution_count": null,
   "metadata": {},
   "outputs": [],
   "source": [
    "label_list2_arr=np.array(label_list2)\n",
    "label_list2_arr.shape"
   ]
  },
  {
   "cell_type": "code",
   "execution_count": null,
   "metadata": {
    "collapsed": true
   },
   "outputs": [],
   "source": [
    "import random\n",
    "\n",
    "aa = image_list2_arr\n",
    "bb = label_list2_arr\n",
    "\n",
    "cc = list(zip(aa, bb))\n",
    "\n",
    "random.shuffle(cc)\n",
    "\n",
    "aa1, bb1 = zip(*cc)\n",
    "\n"
   ]
  },
  {
   "cell_type": "code",
   "execution_count": null,
   "metadata": {
    "collapsed": true
   },
   "outputs": [],
   "source": [
    "# f2(label_list2)"
   ]
  },
  {
   "cell_type": "code",
   "execution_count": null,
   "metadata": {
    "collapsed": true
   },
   "outputs": [],
   "source": [
    "aa2=np.array(aa1)\n",
    "bb2=np.array(bb1)"
   ]
  },
  {
   "cell_type": "code",
   "execution_count": null,
   "metadata": {},
   "outputs": [],
   "source": [
    "aa2=aa2.reshape(11755, 100, 100, 3)\n",
    "print(aa2.shape,bb2.shape)"
   ]
  },
  {
   "cell_type": "code",
   "execution_count": null,
   "metadata": {},
   "outputs": [],
   "source": [
    "11758*0.8\n"
   ]
  },
  {
   "cell_type": "code",
   "execution_count": null,
   "metadata": {
    "collapsed": true
   },
   "outputs": [],
   "source": [
    "X_train2=aa2[:9406]\n",
    "X_test2=aa2[9406:]\n",
    "y_train2=bb2[:9406]\n",
    "y_test2=bb2[9406:]"
   ]
  },
  {
   "cell_type": "code",
   "execution_count": null,
   "metadata": {
    "collapsed": true
   },
   "outputs": [],
   "source": [
    "X_train2_rescale=X_train2/255\n",
    "X_test2_rescale=X_test2/255"
   ]
  },
  {
   "cell_type": "code",
   "execution_count": null,
   "metadata": {
    "collapsed": true
   },
   "outputs": [],
   "source": [
    "from keras.preprocessing.image import ImageDataGenerator"
   ]
  },
  {
   "cell_type": "code",
   "execution_count": null,
   "metadata": {
    "collapsed": true
   },
   "outputs": [],
   "source": [
    "# X_train_test1=a2[:6533]\n",
    "# X_test_test1=a2[6533:]\n",
    "# y_train_test1=b2[:6533]\n",
    "# y_test_test1=b2[6533:]\n",
    "\n",
    "imgen_train = ImageDataGenerator(\n",
    "    rotation_range=8,\n",
    "    width_shift_range=0.2,\n",
    "    height_shift_range=0.2,\n",
    "    shear_range=0.1,\n",
    "    zoom_range=0.15,\n",
    "    horizontal_flip=True,\n",
    "    vertical_flip=True,\n",
    "    fill_mode='constant'\n",
    ")\n",
    "\n",
    "imgen_test=ImageDataGenerator()\n"
   ]
  },
  {
   "cell_type": "code",
   "execution_count": null,
   "metadata": {
    "collapsed": true
   },
   "outputs": [],
   "source": [
    "train_generator = imgen_train.flow(X_train_test1_rescale, y_train_test1_1hot, batch_size=64)\n",
    "test_generator = imgen_test.flow(X_test_test1_rescale, y_test_test1_1hot, batch_size=64)\n",
    "\n"
   ]
  },
  {
   "cell_type": "code",
   "execution_count": null,
   "metadata": {
    "collapsed": true
   },
   "outputs": [],
   "source": [
    "cnn2.fit_generator(train_generator, steps_per_epoch=X_train_test1_rescale.shape[0] // 64, epochs=5, \n",
    "                    validation_data=test_generator, validation_steps=len(y_test_test1_1hot)//64)"
   ]
  },
  {
   "cell_type": "code",
   "execution_count": null,
   "metadata": {
    "collapsed": true
   },
   "outputs": [],
   "source": [
    "y_train2_1hot = encoder.fit_transform(y_train2)\n",
    "y_test2_1hot = encoder.fit_transform(y_test2)\n"
   ]
  },
  {
   "cell_type": "code",
   "execution_count": null,
   "metadata": {
    "collapsed": true
   },
   "outputs": [],
   "source": [
    "cnn3 = Sequential([\n",
    "    Conv2D(50, kernel_size=(3, 3),\n",
    "                 activation='relu',\n",
    "                 input_shape=(100,100,3)),\n",
    "    MaxPool2D((2,2)),\n",
    "    \n",
    "    Conv2D(100, (3, 3), activation='relu'),\n",
    "#     BatchNormalization(axis=-1),\n",
    "    Dropout(.5),\n",
    "    MaxPool2D((2,2)),\n",
    "    \n",
    "#     Conv2D(100, (3, 3), activation='relu'),\n",
    "#     BatchNormalization(axis=-1),\n",
    "#     Dropout(.25),\n",
    "#     MaxPool2D((2,2)),\n",
    "    \n",
    "#     Conv2D(150, (3, 3), activation='relu'),\n",
    "#     BatchNormalization(axis=-1),\n",
    "#     Dropout(.25),\n",
    "#     MaxPool2D((2,2)),\n",
    "    \n",
    "#     Conv2D(100, (3, 3), activation='relu'),\n",
    "#     Dropout(.25),\n",
    "#     MaxPool2D((2,2)),\n",
    "    \n",
    "    Flatten(),\n",
    "    Dense(128, activation='relu'),\n",
    "#     BatchNormalization(axis=-1),\n",
    "    Dropout(.5),\n",
    "    Dense(10, activation='softmax')\n",
    "])"
   ]
  },
  {
   "cell_type": "code",
   "execution_count": null,
   "metadata": {},
   "outputs": [],
   "source": [
    "cnn3.summary()"
   ]
  },
  {
   "cell_type": "code",
   "execution_count": null,
   "metadata": {
    "collapsed": true
   },
   "outputs": [],
   "source": [
    "cnn3.compile(loss=keras.losses.categorical_crossentropy,\n",
    "              optimizer=keras.optimizers.Adadelta(lr=0.2),\n",
    "#               optimizer=Adam(lr=0.2),\n",
    "#               optimizer=sgd,\n",
    "              metrics=['accuracy'])"
   ]
  },
  {
   "cell_type": "code",
   "execution_count": null,
   "metadata": {},
   "outputs": [],
   "source": [
    "cnn3.fit(X_train2_rescale, y_train2_1hot, validation_split=.2, epochs=20)"
   ]
  },
  {
   "cell_type": "code",
   "execution_count": null,
   "metadata": {},
   "outputs": [],
   "source": [
    "loss, accuracy3 = cnn3.evaluate(X_test2_rescale, y_test2_1hot)"
   ]
  },
  {
   "cell_type": "code",
   "execution_count": null,
   "metadata": {},
   "outputs": [],
   "source": [
    "accuracy3"
   ]
  },
  {
   "cell_type": "code",
   "execution_count": null,
   "metadata": {
    "collapsed": true
   },
   "outputs": [],
   "source": []
  },
  {
   "cell_type": "code",
   "execution_count": null,
   "metadata": {
    "collapsed": true
   },
   "outputs": [],
   "source": []
  },
  {
   "cell_type": "code",
   "execution_count": null,
   "metadata": {
    "collapsed": true
   },
   "outputs": [],
   "source": []
  },
  {
   "cell_type": "code",
   "execution_count": null,
   "metadata": {
    "collapsed": true
   },
   "outputs": [],
   "source": []
  },
  {
   "cell_type": "code",
   "execution_count": null,
   "metadata": {
    "collapsed": true
   },
   "outputs": [],
   "source": [
    "## Data Augmentation"
   ]
  },
  {
   "cell_type": "code",
   "execution_count": null,
   "metadata": {
    "collapsed": true
   },
   "outputs": [],
   "source": [
    "cnn4 = Sequential([\n",
    "    Conv2D(50, kernel_size=(3, 3),\n",
    "                 activation='relu',\n",
    "                 input_shape=(100,100,3)),\n",
    "    MaxPool2D((2,2)),\n",
    "    \n",
    "    Conv2D(100, (3, 3), activation='relu'),\n",
    "    BatchNormalization(axis=-1),\n",
    "    Dropout(.5),\n",
    "    MaxPool2D((2,2)),\n",
    "    \n",
    "#     Conv2D(100, (3, 3), activation='relu'),\n",
    "#     BatchNormalization(axis=-1),\n",
    "#     Dropout(.25),\n",
    "#     MaxPool2D((2,2)),\n",
    "    \n",
    "#     Conv2D(150, (3, 3), activation='relu'),\n",
    "#     BatchNormalization(axis=-1),\n",
    "#     Dropout(.25),\n",
    "#     MaxPool2D((2,2)),\n",
    "    \n",
    "#     Conv2D(100, (3, 3), activation='relu'),\n",
    "#     Dropout(.25),\n",
    "#     MaxPool2D((2,2)),\n",
    "    \n",
    "    Flatten(),\n",
    "    Dense(128, activation='relu'),\n",
    "    BatchNormalization(axis=-1),\n",
    "    Dropout(.5),\n",
    "    Dense(10, activation='softmax')\n",
    "])"
   ]
  },
  {
   "cell_type": "code",
   "execution_count": null,
   "metadata": {},
   "outputs": [],
   "source": [
    "cnn4.summary()"
   ]
  },
  {
   "cell_type": "code",
   "execution_count": null,
   "metadata": {
    "collapsed": true
   },
   "outputs": [],
   "source": [
    "cnn4.compile(loss=keras.losses.categorical_crossentropy,\n",
    "              optimizer=keras.optimizers.Adadelta(lr=0.2),\n",
    "#               optimizer=Adam(lr=0.2),\n",
    "#               optimizer=sgd,\n",
    "              metrics=['accuracy'])"
   ]
  },
  {
   "cell_type": "code",
   "execution_count": null,
   "metadata": {
    "collapsed": true
   },
   "outputs": [],
   "source": [
    "imgen_train2 = ImageDataGenerator(\n",
    "    rotation_range=8,\n",
    "    width_shift_range=0.2,\n",
    "    height_shift_range=0.2,\n",
    "    shear_range=0.1,\n",
    "    zoom_range=0.15,\n",
    "    horizontal_flip=True,\n",
    "    vertical_flip=True,\n",
    ")\n",
    "\n",
    "imgen_test2=ImageDataGenerator()\n",
    "\n",
    "\n"
   ]
  },
  {
   "cell_type": "code",
   "execution_count": null,
   "metadata": {
    "collapsed": true
   },
   "outputs": [],
   "source": [
    "train_generator2 = imgen_train2.flow(X_train2_rescale, y_train2_1hot, batch_size=64)\n",
    "test_generator2 = imgen_test2.flow(X_test2_rescale, y_test2_1hot, batch_size=64)\n",
    "\n"
   ]
  },
  {
   "cell_type": "code",
   "execution_count": null,
   "metadata": {},
   "outputs": [],
   "source": [
    "cnn4.fit_generator(train_generator2, steps_per_epoch=X_train2_rescale.shape[0] // 64, epochs=10, \n",
    "                    validation_data=test_generator2, validation_steps=len(y_test2_1hot)//64)"
   ]
  },
  {
   "cell_type": "code",
   "execution_count": null,
   "metadata": {
    "collapsed": true
   },
   "outputs": [],
   "source": []
  },
  {
   "cell_type": "code",
   "execution_count": null,
   "metadata": {
    "collapsed": true
   },
   "outputs": [],
   "source": []
  },
  {
   "cell_type": "code",
   "execution_count": null,
   "metadata": {
    "collapsed": true
   },
   "outputs": [],
   "source": []
  },
  {
   "cell_type": "code",
   "execution_count": null,
   "metadata": {
    "collapsed": true
   },
   "outputs": [],
   "source": []
  },
  {
   "cell_type": "code",
   "execution_count": null,
   "metadata": {
    "collapsed": true
   },
   "outputs": [],
   "source": []
  },
  {
   "cell_type": "code",
   "execution_count": null,
   "metadata": {
    "collapsed": true
   },
   "outputs": [],
   "source": []
  },
  {
   "cell_type": "code",
   "execution_count": null,
   "metadata": {
    "collapsed": true
   },
   "outputs": [],
   "source": []
  },
  {
   "cell_type": "code",
   "execution_count": null,
   "metadata": {
    "collapsed": true
   },
   "outputs": [],
   "source": []
  }
 ],
 "metadata": {
  "kernelspec": {
   "display_name": "Python 3",
   "language": "python",
   "name": "python3"
  },
  "language_info": {
   "codemirror_mode": {
    "name": "ipython",
    "version": 3
   },
   "file_extension": ".py",
   "mimetype": "text/x-python",
   "name": "python",
   "nbconvert_exporter": "python",
   "pygments_lexer": "ipython3",
   "version": "3.6.1"
  }
 },
 "nbformat": 4,
 "nbformat_minor": 2
}
