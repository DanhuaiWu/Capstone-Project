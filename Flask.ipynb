{
 "cells": [
  {
   "cell_type": "code",
   "execution_count": 1,
   "metadata": {
    "collapsed": true
   },
   "outputs": [],
   "source": [
    "from flask import Flask,request\n",
    "from scipy import misc\n",
    "import cv2"
   ]
  },
  {
   "cell_type": "code",
   "execution_count": null,
   "metadata": {},
   "outputs": [
    {
     "name": "stderr",
     "output_type": "stream",
     "text": [
      "Using TensorFlow backend.\n",
      "Couldn't import dot_parser, loading of dot files will not be possible.\n"
     ]
    }
   ],
   "source": [
    "import numpy as np\n",
    "import pandas as pd\n",
    "from keras.models import model_from_json"
   ]
  },
  {
   "cell_type": "code",
   "execution_count": null,
   "metadata": {},
   "outputs": [
    {
     "name": "stderr",
     "output_type": "stream",
     "text": [
      " * Running on http://127.0.0.1:5000/ (Press CTRL+C to quit)\n",
      "127.0.0.1 - - [14/Sep/2017 08:51:54] \"GET / HTTP/1.1\" 200 -\n",
      "127.0.0.1 - - [14/Sep/2017 08:52:06] \"POST /upload HTTP/1.1\" 200 -\n",
      "127.0.0.1 - - [14/Sep/2017 08:52:19] \"GET / HTTP/1.1\" 200 -\n",
      "127.0.0.1 - - [14/Sep/2017 09:20:42] \"GET / HTTP/1.1\" 200 -\n",
      "127.0.0.1 - - [14/Sep/2017 10:43:21] \"POST /upload HTTP/1.1\" 200 -\n",
      "127.0.0.1 - - [14/Sep/2017 10:43:28] \"GET / HTTP/1.1\" 200 -\n",
      "127.0.0.1 - - [14/Sep/2017 10:43:58] \"GET / HTTP/1.1\" 200 -\n",
      "127.0.0.1 - - [14/Sep/2017 11:58:41] \"GET / HTTP/1.1\" 200 -\n",
      "127.0.0.1 - - [14/Sep/2017 11:58:55] \"POST /upload HTTP/1.1\" 200 -\n",
      "127.0.0.1 - - [14/Sep/2017 11:59:09] \"POST /upload HTTP/1.1\" 200 -\n"
     ]
    }
   ],
   "source": [
    "app = Flask(__name__)\n",
    "\n",
    "@app.route('/upload', methods=['POST'])\n",
    "def upload():\n",
    "    f = request.files['file']\n",
    "    im = misc.imread(f) \n",
    "    \n",
    "    resized_image=cv2.resize(im,(100,100))\n",
    "    img_arr=np.asarray(resized_image).reshape((1,resized_image.shape[1], resized_image.shape[0],3))\n",
    "    X_test = img_arr.astype('float32')\n",
    "    X_test_rescale=X_test/255\n",
    "    \n",
    "    # load json and create model\n",
    "    json_file = open('cnn18.json', 'r')\n",
    "    loaded_model_json = json_file.read()\n",
    "    json_file.close()\n",
    "    loaded_model = model_from_json(loaded_model_json)\n",
    "    # load weights into new model\n",
    "    loaded_model.load_weights(\"cnn18.h5\")\n",
    "    \n",
    "    y_pred_probas1 = loaded_model.predict(X_test_rescale)\n",
    "    y_pred = np.argmax(y_pred_probas1)\n",
    "    \n",
    "    flower_dir={\n",
    "                0:'African_daisy',\n",
    "                1:'Cornflower',\n",
    "                2:'Ice_plant',\n",
    "                3:'Nigella',\n",
    "                4:'Peony',\n",
    "                5:'Ragged_robin',\n",
    "                6:'Soapwort',\n",
    "                7:'Spathiphyllum',\n",
    "                8:'Spring_beauty',\n",
    "                9:'Sunflower'}\n",
    "    result=flower_dir[y_pred]\n",
    "    result2='This is a ' + result +' image'\n",
    "    return result2\n",
    "\n",
    "\n",
    "@app.route('/')\n",
    "def index():\n",
    "    return '''\n",
    "    <!doctype html>\n",
    "    <html>\n",
    "    <body>\n",
    "    <form action='/upload' method='post' enctype='multipart/form-data'>\n",
    "        <input type='file' name='file'>\n",
    "    <input type='submit' value='Upload'>\n",
    "    </form>\n",
    "    '''    \n",
    "if __name__ == '__main__':\n",
    "    app.run()"
   ]
  },
  {
   "cell_type": "code",
   "execution_count": null,
   "metadata": {
    "collapsed": true
   },
   "outputs": [],
   "source": [
    "\n",
    "    "
   ]
  },
  {
   "cell_type": "code",
   "execution_count": null,
   "metadata": {
    "collapsed": true
   },
   "outputs": [],
   "source": []
  },
  {
   "cell_type": "code",
   "execution_count": null,
   "metadata": {
    "collapsed": true
   },
   "outputs": [],
   "source": []
  },
  {
   "cell_type": "code",
   "execution_count": null,
   "metadata": {
    "collapsed": true
   },
   "outputs": [],
   "source": []
  },
  {
   "cell_type": "code",
   "execution_count": null,
   "metadata": {
    "collapsed": true
   },
   "outputs": [],
   "source": []
  },
  {
   "cell_type": "code",
   "execution_count": null,
   "metadata": {
    "collapsed": true
   },
   "outputs": [],
   "source": []
  },
  {
   "cell_type": "code",
   "execution_count": null,
   "metadata": {
    "collapsed": true
   },
   "outputs": [],
   "source": []
  },
  {
   "cell_type": "code",
   "execution_count": null,
   "metadata": {
    "collapsed": true
   },
   "outputs": [],
   "source": []
  },
  {
   "cell_type": "code",
   "execution_count": null,
   "metadata": {
    "collapsed": true
   },
   "outputs": [],
   "source": []
  },
  {
   "cell_type": "code",
   "execution_count": null,
   "metadata": {
    "collapsed": true
   },
   "outputs": [],
   "source": []
  },
  {
   "cell_type": "code",
   "execution_count": null,
   "metadata": {
    "collapsed": true
   },
   "outputs": [],
   "source": []
  },
  {
   "cell_type": "code",
   "execution_count": null,
   "metadata": {
    "collapsed": true
   },
   "outputs": [],
   "source": []
  }
 ],
 "metadata": {
  "kernelspec": {
   "display_name": "Python 3",
   "language": "python",
   "name": "python3"
  },
  "language_info": {
   "codemirror_mode": {
    "name": "ipython",
    "version": 3
   },
   "file_extension": ".py",
   "mimetype": "text/x-python",
   "name": "python",
   "nbconvert_exporter": "python",
   "pygments_lexer": "ipython3",
   "version": "3.6.1"
  }
 },
 "nbformat": 4,
 "nbformat_minor": 2
}
