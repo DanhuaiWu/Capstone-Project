{
 "cells": [
  {
   "cell_type": "markdown",
   "metadata": {},
   "source": [
    "## Data Collection\n",
    "\n",
    "### Scrap images from http://www.image-net.org "
   ]
  },
  {
   "cell_type": "code",
   "execution_count": 3,
   "metadata": {
    "collapsed": true
   },
   "outputs": [],
   "source": [
    "category={'Sunflower':'http://www.image-net.org/api/text/imagenet.synset.geturls?wnid=n11978961',\n",
    "          'Peony':'http://image-net.org/api/text/imagenet.synset.geturls?wnid=n11719286',\n",
    "          'Nigella':'http://image-net.org/api/text/imagenet.synset.geturls?wnid=n11736851',\n",
    "          'Spathiphyllum':'http://image-net.org/api/text/imagenet.synset.geturls?wnid=n11792341',\n",
    "          'Ragged_robin':'http://image-net.org/api/text/imagenet.synset.geturls?wnid=n11811706',\n",
    "          'Soapwort':'http://image-net.org/api/text/imagenet.synset.geturls?wnid=n11814584',\n",
    "          'Ice_plant':'http://image-net.org/api/text/imagenet.synset.geturls?wnid=n11821184',\n",
    "          'Spring_beauty':'http://image-net.org/api/text/imagenet.synset.geturls?wnid=n11859472',\n",
    "          'African_daisy':'http://image-net.org/api/text/imagenet.synset.geturls?wnid=n11925303',\n",
    "          'Cornflower':'http://image-net.org/api/text/imagenet.synset.geturls?wnid=n11947802'\n",
    "          }"
   ]
  },
  {
   "cell_type": "code",
   "execution_count": null,
   "metadata": {
    "collapsed": true
   },
   "outputs": [],
   "source": []
  },
  {
   "cell_type": "code",
   "execution_count": 4,
   "metadata": {
    "collapsed": true
   },
   "outputs": [],
   "source": [
    "import cv2\n",
    "import os\n",
    "import urllib.request\n",
    "from urllib.request import Request, urlopen\n",
    "from urllib.error import URLError\n",
    "import socket  \n",
    "socket.setdefaulttimeout(1)"
   ]
  },
  {
   "cell_type": "code",
   "execution_count": 5,
   "metadata": {
    "collapsed": true
   },
   "outputs": [],
   "source": [
    "def get_urls(urls_links):\n",
    "    url_list=urllib.request.urlopen(urls_links).read().decode().split('\\r\\n')\n",
    "    return url_list"
   ]
  },
  {
   "cell_type": "code",
   "execution_count": 6,
   "metadata": {
    "collapsed": true
   },
   "outputs": [],
   "source": [
    "def download_images(urls_link,category_name):\n",
    "    if not os.path.exists(category_name):\n",
    "        os.makedirs(category_name)\n",
    "    count=1\n",
    "    url_list=get_urls(urls_link)\n",
    "    for url in url_list:\n",
    "        try:\n",
    "            path_name=str(category_name)+'/'+str(count)+'.'+str(category_name)+'.jpg'\n",
    "            urllib.request.urlretrieve(url,path_name)\n",
    "             \n",
    "            img=cv2.imread(path_name)\n",
    "            resized_image=cv2.resize(img,(100,100))\n",
    "            cv2.imwrite(path_name,resized_image)\n",
    "        except Exception as e:\n",
    "            print(str(count)+str(e))\n",
    "        count+=1"
   ]
  },
  {
   "cell_type": "code",
   "execution_count": null,
   "metadata": {
    "collapsed": true
   },
   "outputs": [],
   "source": [
    "for cate in category:\n",
    "    download_images(category['cate'],cate)\n"
   ]
  },
  {
   "cell_type": "code",
   "execution_count": null,
   "metadata": {
    "collapsed": true
   },
   "outputs": [],
   "source": []
  },
  {
   "cell_type": "code",
   "execution_count": null,
   "metadata": {
    "collapsed": true
   },
   "outputs": [],
   "source": []
  },
  {
   "cell_type": "code",
   "execution_count": null,
   "metadata": {
    "collapsed": true
   },
   "outputs": [],
   "source": []
  },
  {
   "cell_type": "code",
   "execution_count": null,
   "metadata": {
    "collapsed": true
   },
   "outputs": [],
   "source": []
  },
  {
   "cell_type": "code",
   "execution_count": null,
   "metadata": {},
   "outputs": [],
   "source": []
  },
  {
   "cell_type": "code",
   "execution_count": null,
   "metadata": {
    "collapsed": true
   },
   "outputs": [],
   "source": []
  },
  {
   "cell_type": "code",
   "execution_count": null,
   "metadata": {
    "collapsed": true
   },
   "outputs": [],
   "source": []
  },
  {
   "cell_type": "code",
   "execution_count": null,
   "metadata": {
    "collapsed": true
   },
   "outputs": [],
   "source": []
  },
  {
   "cell_type": "code",
   "execution_count": null,
   "metadata": {
    "collapsed": true
   },
   "outputs": [],
   "source": []
  },
  {
   "cell_type": "code",
   "execution_count": null,
   "metadata": {
    "collapsed": true
   },
   "outputs": [],
   "source": []
  },
  {
   "cell_type": "code",
   "execution_count": null,
   "metadata": {
    "collapsed": true
   },
   "outputs": [],
   "source": []
  },
  {
   "cell_type": "code",
   "execution_count": null,
   "metadata": {
    "collapsed": true
   },
   "outputs": [],
   "source": []
  },
  {
   "cell_type": "code",
   "execution_count": null,
   "metadata": {
    "collapsed": true
   },
   "outputs": [],
   "source": []
  },
  {
   "cell_type": "code",
   "execution_count": null,
   "metadata": {
    "collapsed": true
   },
   "outputs": [],
   "source": []
  },
  {
   "cell_type": "code",
   "execution_count": null,
   "metadata": {
    "collapsed": true
   },
   "outputs": [],
   "source": []
  },
  {
   "cell_type": "code",
   "execution_count": null,
   "metadata": {
    "collapsed": true
   },
   "outputs": [],
   "source": []
  },
  {
   "cell_type": "code",
   "execution_count": null,
   "metadata": {
    "collapsed": true
   },
   "outputs": [],
   "source": []
  },
  {
   "cell_type": "code",
   "execution_count": null,
   "metadata": {
    "collapsed": true
   },
   "outputs": [],
   "source": []
  },
  {
   "cell_type": "code",
   "execution_count": null,
   "metadata": {
    "collapsed": true
   },
   "outputs": [],
   "source": []
  }
 ],
 "metadata": {
  "kernelspec": {
   "display_name": "Python 3",
   "language": "python",
   "name": "python3"
  },
  "language_info": {
   "codemirror_mode": {
    "name": "ipython",
    "version": 3
   },
   "file_extension": ".py",
   "mimetype": "text/x-python",
   "name": "python",
   "nbconvert_exporter": "python",
   "pygments_lexer": "ipython3",
   "version": "3.6.1"
  }
 },
 "nbformat": 4,
 "nbformat_minor": 2
}
